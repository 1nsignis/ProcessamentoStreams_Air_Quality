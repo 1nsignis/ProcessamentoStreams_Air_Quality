{
  "nbformat": 4,
  "nbformat_minor": 0,
  "metadata": {
    "colab": {
      "provenance": []
    },
    "kernelspec": {
      "name": "python3",
      "display_name": "Python 3"
    },
    "language_info": {
      "name": "python"
    }
  },
  "cells": [
    {
      "cell_type": "markdown",
      "metadata": {
        "id": "KgFZlT_g8O1Y"
      },
      "source": [
        "# Processamento de Streams 2022\n",
        "## TP1 - Air Quality Monitoring (airborne particulate matter)\n",
        "\n",
        "\n",
        "\n"
      ]
    },
    {
      "cell_type": "markdown",
      "source": [
        "Authors: Diogo Silva nº53058 and Eugen Ursu nº52533"
      ],
      "metadata": {
        "id": "RoACX0ILsnze"
      }
    },
    {
      "cell_type": "markdown",
      "source": [
        "The goal of this project is to analyze data provided by a set of air quality sensors [sds011](https://aqicn.org/sensor/sds011/pt/). The sensors present in the dataset are located in Portugal, namely in the Lisbon metro area. Each sensor provides two values: measuring particles less than 10 µm (P1) and less than 2.5 µm (P2) in μg/m³.\n",
        "\n",
        "The sensor data, spans the first half of 2020, and is streamed of Kafka.\n",
        "\n",
        "Each data sample has the following schema:\n",
        "\n",
        "sensor_id | sensor_type | location | latitude | longitude | timestamp | P1 | P2\n",
        "----------|-------------|----------|----------|-----------|-----------|----|---\n",
        "string  | string | string | float | float| timestamp | float | float\n",
        "\n"
      ],
      "metadata": {
        "id": "IRDJq9dL0GWA"
      }
    },
    {
      "cell_type": "markdown",
      "source": [
        "## Questions\n",
        "\n",
        "\n",
        "1. Find the time of day with the poorest air quality, for each location. Updated daily;\n",
        "2. Find the average air quality, for each location. Updated hourly;\n",
        "3. Can you show any daily and/or weekly patterns to air quality?;\n",
        "4. The data covers a period of extensive population confinement due to Covid 19. Can you find a signal in the data showing air quality improvement coinciding with the confinement period?"
      ],
      "metadata": {
        "id": "HC6tMDOU7Fdb"
      }
    },
    {
      "cell_type": "markdown",
      "source": [
        "---\n",
        "### Colab Setup\n"
      ],
      "metadata": {
        "id": "81dR9BTgBg1s"
      }
    },
    {
      "cell_type": "code",
      "metadata": {
        "id": "1eIWfDqQ3Cqi",
        "outputId": "75867743-d30d-4e01-ab97-95212ea5ed59",
        "colab": {
          "base_uri": "https://localhost:8080/"
        }
      },
      "source": [
        "#@title Mount Google Drive (Optional)\n",
        "from google.colab import drive\n",
        "drive.mount('/content/drive')"
      ],
      "execution_count": null,
      "outputs": [
        {
          "output_type": "stream",
          "name": "stdout",
          "text": [
            "Mounted at /content/drive\n"
          ]
        }
      ]
    },
    {
      "cell_type": "code",
      "source": [
        "#@title Install PySpark\n",
        "!pip install pyspark findspark --quiet\n",
        "import findspark\n",
        "findspark.init()\n",
        "findspark.find()"
      ],
      "metadata": {
        "id": "L2O_3I3x1dbx",
        "outputId": "793ab2f9-e46d-4cdb-a5a0-d1a232552782",
        "colab": {
          "base_uri": "https://localhost:8080/",
          "height": 35
        }
      },
      "execution_count": null,
      "outputs": [
        {
          "output_type": "execute_result",
          "data": {
            "text/plain": [
              "'/usr/local/lib/python3.7/dist-packages/pyspark'"
            ],
            "application/vnd.google.colaboratory.intrinsic+json": {
              "type": "string"
            }
          },
          "metadata": {},
          "execution_count": 2
        }
      ]
    },
    {
      "cell_type": "code",
      "source": [
        "#@title Install & Launch Kafka\n",
        "%%bash\n",
        "KAFKA_VERSION=3.1.0\n",
        "KAFKA=kafka_2.13-$KAFKA_VERSION\n",
        "wget -q -O /tmp/$KAFKA.tgz https://dlcdn.apache.org/kafka/$KAFKA_VERSION/$KAFKA.tgz\n",
        "tar xfz /tmp/$KAFKA.tgz\n",
        "wget -q -O $KAFKA/config/server1.properties - https://github.com/smduarte/ps2022/raw/main/colab/server1.properties\n",
        "\n",
        "UUID=`$KAFKA/bin/kafka-storage.sh random-uuid`\n",
        "$KAFKA/bin/kafka-storage.sh format -t $UUID -c $KAFKA/config/server1.properties\n",
        "$KAFKA/bin/kafka-server-start.sh -daemon $KAFKA/config/server1.properties\n"
      ],
      "metadata": {
        "id": "Zl0sBUzOe7Af",
        "outputId": "2e17c934-d7af-403b-a033-ac649ae91cdb",
        "colab": {
          "base_uri": "https://localhost:8080/"
        }
      },
      "execution_count": null,
      "outputs": [
        {
          "output_type": "stream",
          "name": "stderr",
          "text": [
            "Log directory /tmp/kraft-combined-logs is already formatted. Use --ignore-formatted to ignore this directory and format the others.\n"
          ]
        }
      ]
    },
    {
      "cell_type": "markdown",
      "source": [
        "### Air quality sensor data publisher\n",
        "This a small python Kafka client that publishes a continous stream of text lines, obtained from the periodic output of the sensors.\n",
        "\n",
        "* The Kafka server is accessible @localhost:9092\n",
        "* The events are published to the `air_quality` topic\n",
        "* Events are published 3600x faster than realtime relative to the timestamp\n"
      ],
      "metadata": {
        "id": "51ECJ--i0D2G"
      }
    },
    {
      "cell_type": "code",
      "source": [
        "#@title Start Kafka Publisher\n",
        "%%bash\n",
        "pip install kafka-python dataclasses --quiet\n",
        "wget -q -O - https://github.com/smduarte/ps2022/raw/main/colab/kafka-tp1-logsender.tgz | tar xfz - 2> /dev/null\n",
        "\n",
        "cd kafka-tp1-logsender\n",
        "nohup python publisher.py --filename 2020-01-06_sds011-pt.csv --topic air_quality  --speedup 3600 2> publisher-error.log > publisher-out.log &"
      ],
      "metadata": {
        "id": "GElosFxt-D4j"
      },
      "execution_count": null,
      "outputs": []
    },
    {
      "cell_type": "code",
      "source": [
        "#@title Start Socket-based Publisher\n",
        "%%bash\n",
        "\n",
        "git clone https://github.com/smduarte/ps2022.git 2> /dev/null > /dev/null || git -C ps2022 pull\n",
        "cd ps2022/colab/socket-tp1-logsender/\n",
        "\n",
        "nohup python publisher.py --filename 2020-01-06_sds011-pt.csv --port 7777  --speedup 3600 2> /tmp/publisher-error.log > /tmp/publisher-out.log &"
      ],
      "metadata": {
        "id": "oFrPUKgtNjxO",
        "colab": {
          "base_uri": "https://localhost:8080/"
        },
        "outputId": "01a94daf-f086-420a-bab2-28aa8cc41716"
      },
      "execution_count": null,
      "outputs": [
        {
          "output_type": "stream",
          "name": "stdout",
          "text": [
            "Already up to date.\n"
          ]
        }
      ]
    },
    {
      "cell_type": "markdown",
      "source": [
        "Each line sample has the following parts separated by blanks:\n",
        "\n",
        "sensor_id | sensor_type | location | latitude | longitude | P1 | P2 | timestamp\n",
        "----------|-------------|----------|----------|-----------|-----------|----|---\n",
        "string  | string | string | float | float| float | float | timestamp\n",
        "\n"
      ],
      "metadata": {
        "id": "DTogabrlXZSX"
      }
    },
    {
      "cell_type": "markdown",
      "source": [
        "###Answers"
      ],
      "metadata": {
        "id": "vwmgv2FWoJBf"
      }
    },
    {
      "cell_type": "markdown",
      "source": [
        "Seeing as the events are published 3600x faster than realtime, a window with 24 seconds corresponds to 24 hours (1 day).\n",
        "Seeing as p2 is always lower than p1, we decided that for questions 1 and 2, p2 is not necessary to use and p1 is enough. We defined air quality in function of p1."
      ],
      "metadata": {
        "id": "fX4O3FmnonX-"
      }
    },
    {
      "cell_type": "markdown",
      "source": [
        "1. Find the time of day with the poorest air quality, for each location. Updated daily;\n"
      ],
      "metadata": {
        "id": "Be9gtsUJwVOb"
      }
    },
    {
      "cell_type": "code",
      "source": [
        "#@title Spark Streaming (Unstructured) Question 1\n",
        "from pyspark import SparkContext\n",
        "from pyspark.sql import SparkSession\n",
        "from pyspark.streaming import StreamingContext\n",
        "import socket\n",
        "\n",
        "spark = SparkSession \\\n",
        "    .builder \\\n",
        "    .appName('Kafka Spark UnStructured Streaming Example') \\\n",
        "    .config('spark.jars.packages', 'org.apache.spark:spark-sql-kafka-0-10_2.12:3.2.1') \\\n",
        "    .getOrCreate()\n",
        "\n",
        "try:\n",
        "  ssc = StreamingContext(spark.sparkContext, 1)\n",
        "  lines = ssc.socketTextStream('localhost', 7777)\n",
        "\n",
        "  results = lines.window(24,5)\\\n",
        "            .filter( lambda line : len(line) > 0 ) \\\n",
        "            .map( lambda line: line.split(' ')) \\\n",
        "            .map( lambda values : (values[2], (values[7], float(values[5])))) \\\n",
        "            .reduceByKey( lambda a, b: (a[0] if a[1] >= b[1] else b[0], max( a[1], b[1])))\n",
        "\n",
        "  results.pprint()\n",
        "\n",
        "  ssc.start()\n",
        "  ssc.awaitTermination(100)\n",
        "except Exception as err:\n",
        "  print(err)\n",
        "ssc.stop()\n",
        "spark.stop()"
      ],
      "metadata": {
        "id": "RLHQoF9xOLKj",
        "outputId": "819a4edb-e7e2-4883-ab60-9a8656625857",
        "colab": {
          "base_uri": "https://localhost:8080/"
        }
      },
      "execution_count": null,
      "outputs": [
        {
          "output_type": "stream",
          "name": "stdout",
          "text": [
            "-------------------------------------------\n",
            "Time: 2022-05-01 21:01:14\n",
            "-------------------------------------------\n",
            "('10161', ('2020-01-01T19:06:21', 253.8))\n",
            "('14857', ('2020-01-01T00:02:15', 408.73))\n",
            "('19563', ('2020-01-01T05:15:53', 165.12))\n",
            "('13691', ('2020-01-01T00:18:26', 128.13))\n",
            "('14858', ('2020-01-01T00:02:15', 348.83))\n",
            "('2332', ('2020-01-01T03:34:31', 1308.17))\n",
            "\n",
            "-------------------------------------------\n",
            "Time: 2022-05-01 21:01:38\n",
            "-------------------------------------------\n",
            "('10161', ('2020-01-02T21:42:24', 102.03))\n",
            "('14857', ('2020-01-02T21:40:52', 272.35))\n",
            "('19563', ('2020-01-02T04:34:37', 793.1))\n",
            "('13691', ('2020-01-01T22:09:34', 43.9))\n",
            "('14858', ('2020-01-02T21:56:22', 217.43))\n",
            "('2332', ('2020-01-02T02:48:45', 530.67))\n",
            "\n",
            "-------------------------------------------\n",
            "Time: 2022-05-01 21:02:02\n",
            "-------------------------------------------\n",
            "('10161', ('2020-01-02T22:16:48', 143.9))\n",
            "('19563', ('2020-01-03T18:44:19', 51.25))\n",
            "('14857', ('2020-01-03T21:06:00', 224.37))\n",
            "('14858', ('2020-01-03T21:08:30', 369.1))\n",
            "('13691', ('2020-01-03T18:55:24', 23.5))\n",
            "('2332', ('2020-01-03T12:57:45', 500.17))\n",
            "\n",
            "-------------------------------------------\n",
            "Time: 2022-05-01 21:02:26\n",
            "-------------------------------------------\n",
            "('10161', ('2020-01-04T03:37:28', 658.17))\n",
            "('14857', ('2020-01-04T19:26:38', 368.7))\n",
            "('19563', ('2020-01-04T05:39:52', 224.05))\n",
            "('14858', ('2020-01-04T00:52:08', 540.8))\n",
            "('13691', ('2020-01-04T19:17:05', 41.37))\n",
            "('2332', ('2020-01-04T02:14:12', 451.27))\n",
            "\n"
          ]
        }
      ]
    },
    {
      "cell_type": "markdown",
      "source": [
        "2. Find the average air quality, for each location. Updated hourly;\n"
      ],
      "metadata": {
        "id": "PVYAWv0KDNrN"
      }
    },
    {
      "cell_type": "code",
      "source": [
        "#@title Spark Streaming (Unstructured) Question 2\n",
        "from pyspark import SparkContext\n",
        "from pyspark.sql import SparkSession\n",
        "from pyspark.streaming import StreamingContext\n",
        "import socket\n",
        "\n",
        "spark = SparkSession \\\n",
        "    .builder \\\n",
        "    .appName('Kafka Spark UnStructured Streaming Example') \\\n",
        "    .config('spark.jars.packages', 'org.apache.spark:spark-sql-kafka-0-10_2.12:3.2.1') \\\n",
        "    .getOrCreate()\n",
        "\n",
        "try:\n",
        "  ssc = StreamingContext(spark.sparkContext, 1)\n",
        "  lines = ssc.socketTextStream('localhost', 7777)\n",
        "\n",
        "  results = lines.window(1,5)\\\n",
        "            .filter( lambda line : len(line) > 0 ) \\\n",
        "            .map( lambda line: line.split(' ')) \\\n",
        "            .map( lambda values : ((values[2]), (float(values[5]), 1))) \\\n",
        "            .reduceByKey( lambda a, b: (a[0] + b[0], a[1] + b[1])) \\\n",
        "            .map( lambda t : (t[0], round(t[1][0] / t[1][1],2)))\n",
        "\n",
        "\n",
        "  results.pprint()\n",
        "\n",
        "  ssc.start()\n",
        "  ssc.awaitTermination(20)\n",
        "except Exception as err:\n",
        "  print(err)\n",
        "ssc.stop()\n",
        "spark.stop()"
      ],
      "metadata": {
        "id": "210RFDPfDS2c",
        "outputId": "da200332-f965-4cca-e57e-3edac7211572",
        "colab": {
          "base_uri": "https://localhost:8080/"
        }
      },
      "execution_count": null,
      "outputs": [
        {
          "output_type": "stream",
          "name": "stdout",
          "text": [
            "-------------------------------------------\n",
            "Time: 2022-04-25 17:19:17\n",
            "-------------------------------------------\n",
            "('10161', 69.56)\n",
            "('14857', 56.02)\n",
            "('13691', 10.67)\n",
            "('14858', 130.53)\n",
            "('2332', 276.68)\n",
            "\n",
            "-------------------------------------------\n",
            "Time: 2022-04-25 17:19:22\n",
            "-------------------------------------------\n",
            "('14857', 45.24)\n",
            "('19563', 35.23)\n",
            "('10161', 35.91)\n",
            "('13691', 13.49)\n",
            "('14858', 73.06)\n",
            "('2332', 57.02)\n",
            "\n",
            "-------------------------------------------\n",
            "Time: 2022-04-25 17:19:27\n",
            "-------------------------------------------\n",
            "('14857', 93.33)\n",
            "('10161', 27.71)\n",
            "('19563', 12.13)\n",
            "('14858', 110.08)\n",
            "('13691', 12.07)\n",
            "\n",
            "-------------------------------------------\n",
            "Time: 2022-04-25 17:19:32\n",
            "-------------------------------------------\n",
            "('10161', 201.8)\n",
            "('14857', 61.6)\n",
            "('19563', 43.09)\n",
            "('13691', 58.28)\n",
            "('14858', 77.62)\n",
            "('2332', 204.07)\n",
            "\n"
          ]
        }
      ]
    },
    {
      "cell_type": "markdown",
      "source": [
        "3. Can you show any daily and/or weekly patterns to air quality?;\n",
        "\n",
        "R: There seems to be and increase of air pollution from 18:00h (people leave work in cars which pollute) to midnight decreasing till 6:00h be it on the hole city of Lisbon or in a given location or geografic coordenates.\n",
        "\n",
        "The first cell is related to a given location or geografical coordinate and the second cell is related to the average of air quality of the whole city."
      ],
      "metadata": {
        "id": "oJebWc7Nwft_"
      }
    },
    {
      "cell_type": "code",
      "source": [
        "from pyspark.sql import SparkSession\n",
        "from pyspark.sql.functions import *\n",
        "from pyspark.sql.types import *\n",
        "\n",
        "# importing pandas library\n",
        "import pandas as pd\n",
        "# importing matplotlib library\n",
        "import matplotlib.pyplot as plt\n",
        "\n",
        "\n",
        "\n",
        "def dumpBatchDF(df, epoch_id):\n",
        "    df = df.orderBy('window')\n",
        "    ax = plt.gca()\n",
        "    plt.figure(figsize=(8, 6))\n",
        "    dfp = df.toPandas()\n",
        "    dfp.plot(kind='line',x='timestamp_hour',y='avg_p1',ax=ax)\n",
        "    dfp.plot(kind='line',x='timestamp_hour',y='avg_p2', color='red', ax=ax)\n",
        "    plt.show()\n",
        "    df.show(20, False)\n",
        "\n",
        "\n",
        "\n",
        "\n",
        "\n",
        "\n",
        "spark = SparkSession \\\n",
        "    .builder \\\n",
        "    .appName('Kafka Spark Structured Streaming Example') \\\n",
        "    .config('spark.jars.packages', 'org.apache.spark:spark-sql-kafka-0-10_2.12:3.2.1') \\\n",
        "    .getOrCreate()\n",
        "\n",
        "lines = spark \\\n",
        "  .readStream \\\n",
        "  .format('kafka') \\\n",
        "  .option('kafka.bootstrap.servers', 'localhost:9092') \\\n",
        "  .option('subscribe', 'air_quality') \\\n",
        "  .option('startingOffsets', 'earliest') \\\n",
        "  .load() \\\n",
        "  .selectExpr('CAST(value AS STRING)')\n",
        "\n",
        "\n",
        "schema = StructType([StructField('timestamp', TimestampType(), True),\n",
        "                     StructField('sensor_id', StringType(), True),\n",
        "                     StructField('sensor_type', StringType(), True),\n",
        "                     StructField('location', StringType(), True),\n",
        "                     StructField('latitude', FloatType(), True),\n",
        "                     StructField('longitude', FloatType(), True),\n",
        "                     StructField('p1', FloatType(), True),\n",
        "                     StructField('p2', FloatType(), True)])\n",
        "\n",
        "lines = lines.select( from_json(col('value'), schema).alias('data')).select('data.*')\n",
        "\n",
        "#for geographic cooredenates swap location to latitude, longitude\n",
        "query = lines.withWatermark('timestamp','1 seconds')\\\n",
        "      .groupBy(window(lines.timestamp,\"1 hour\",\"1 hour\"), date_trunc(\"Hour\",'timestamp').alias('timestamp_hour'), 'location')\\\n",
        "      .agg(avg('p1').alias('avg_p1'), avg('p2').alias('avg_p2')) \\\n",
        "      .filter(\"location = 13691\")\n",
        "\n",
        "query = query \\\n",
        "    .writeStream \\\n",
        "    .outputMode('update') \\\n",
        "    .trigger(processingTime='1 seconds') \\\n",
        "    .foreachBatch(dumpBatchDF) \\\n",
        "    .start()\n",
        "\n",
        "query.awaitTermination(200)\n",
        "query.stop()\n",
        "spark.stop()"
      ],
      "metadata": {
        "id": "iR6vQvEdwmLY"
      },
      "execution_count": null,
      "outputs": []
    },
    {
      "cell_type": "code",
      "source": [
        "from pyspark.sql import SparkSession\n",
        "from pyspark.sql.functions import *\n",
        "from pyspark.sql.types import *\n",
        "\n",
        "# importing pandas library\n",
        "import pandas as pd\n",
        "# importing matplotlib library\n",
        "import matplotlib.pyplot as plt\n",
        "\n",
        "\n",
        "\n",
        "def dumpBatchDF(df, epoch_id):\n",
        "    df = df.orderBy('window')\n",
        "    ax = plt.gca()\n",
        "    plt.figure(figsize=(8, 6))\n",
        "    dfp = df.toPandas()\n",
        "    dfp.plot(kind='line',x='timestamp_hour',y='avg_p1',ax=ax)\n",
        "    dfp.plot(kind='line',x='timestamp_hour',y='avg_p2', color='red', ax=ax)\n",
        "    plt.show()\n",
        "    df.show(20, False)\n",
        "\n",
        "\n",
        "\n",
        "\n",
        "\n",
        "\n",
        "spark = SparkSession \\\n",
        "    .builder \\\n",
        "    .appName('Kafka Spark Structured Streaming Example') \\\n",
        "    .config('spark.jars.packages', 'org.apache.spark:spark-sql-kafka-0-10_2.12:3.2.1') \\\n",
        "    .getOrCreate()\n",
        "\n",
        "lines = spark \\\n",
        "  .readStream \\\n",
        "  .format('kafka') \\\n",
        "  .option('kafka.bootstrap.servers', 'localhost:9092') \\\n",
        "  .option('subscribe', 'air_quality') \\\n",
        "  .option('startingOffsets', 'earliest') \\\n",
        "  .load() \\\n",
        "  .selectExpr('CAST(value AS STRING)')\n",
        "\n",
        "\n",
        "schema = StructType([StructField('timestamp', TimestampType(), True),\n",
        "                     StructField('sensor_id', StringType(), True),\n",
        "                     StructField('sensor_type', StringType(), True),\n",
        "                     StructField('location', StringType(), True),\n",
        "                     StructField('latitude', FloatType(), True),\n",
        "                     StructField('longitude', FloatType(), True),\n",
        "                     StructField('p1', FloatType(), True),\n",
        "                     StructField('p2', FloatType(), True)])\n",
        "\n",
        "lines = lines.select( from_json(col('value'), schema).alias('data')).select('data.*')\n",
        "\n",
        "query = lines.withWatermark('timestamp','1 seconds')\\\n",
        "      .groupBy(window(lines.timestamp,\"1 hour\",\"1 hour\"), date_trunc(\"Hour\",'timestamp').alias('timestamp_hour'))\\\n",
        "      .agg(avg('p1').alias('avg_p1'), avg('p2').alias('avg_p2'))\n",
        "\n",
        "query = query \\\n",
        "    .writeStream \\\n",
        "    .outputMode('update') \\\n",
        "    .trigger(processingTime='1 seconds') \\\n",
        "    .foreachBatch(dumpBatchDF) \\\n",
        "    .start()\n",
        "\n",
        "query.awaitTermination(200)\n",
        "query.stop()\n",
        "spark.stop()"
      ],
      "metadata": {
        "id": "Ex9bzhENhZxP",
        "colab": {
          "base_uri": "https://localhost:8080/",
          "height": 1000
        },
        "outputId": "bc92dac2-dea2-4775-fee5-965fcdd68bf6"
      },
      "execution_count": null,
      "outputs": [
        {
          "output_type": "display_data",
          "data": {
            "text/plain": [
              "<Figure size 432x288 with 1 Axes>"
            ],
            "image/png": "[encoded data removed]"
          },
          "metadata": {
            "needs_background": "light"
          }
        },
        {
          "output_type": "display_data",
          "data": {
            "text/plain": [
              "<Figure size 576x432 with 0 Axes>"
            ]
          },
          "metadata": {}
        },
        {
          "output_type": "stream",
          "name": "stdout",
          "text": [
            "+------------------------------------------+-------------------+------------------+------------------+\n",
            "|window                                    |timestamp_hour     |avg_p1            |avg_p2            |\n",
            "+------------------------------------------+-------------------+------------------+------------------+\n",
            "|{2020-01-01 00:00:00, 2020-01-01 01:00:00}|2020-01-01 00:00:00|168.45603944759557|93.9130690074203  |\n",
            "|{2020-01-01 01:00:00, 2020-01-01 02:00:00}|2020-01-01 01:00:00|170.62478617317657|91.32769248016879 |\n",
            "|{2020-01-01 02:00:00, 2020-01-01 03:00:00}|2020-01-01 02:00:00|121.70207220369632|59.66360346476237 |\n",
            "|{2020-01-01 03:00:00, 2020-01-01 04:00:00}|2020-01-01 03:00:00|97.87670051574707 |38.9539000749588  |\n",
            "|{2020-01-01 04:00:00, 2020-01-01 05:00:00}|2020-01-01 04:00:00|100.02415252540071|39.41135581065033 |\n",
            "|{2020-01-01 05:00:00, 2020-01-01 06:00:00}|2020-01-01 05:00:00|76.33341426384158 |34.73577234997013 |\n",
            "|{2020-01-01 06:00:00, 2020-01-01 07:00:00}|2020-01-01 06:00:00|60.29305776879807 |29.179999966266728|\n",
            "|{2020-01-01 07:00:00, 2020-01-01 08:00:00}|2020-01-01 07:00:00|52.2817742670736  |25.20387088867926 |\n",
            "|{2020-01-01 08:00:00, 2020-01-01 09:00:00}|2020-01-01 08:00:00|48.308823585510254|22.799663928376525|\n",
            "|{2020-01-01 09:00:00, 2020-01-01 10:00:00}|2020-01-01 09:00:00|49.76679679751396 |25.677656326442957|\n",
            "|{2020-01-01 10:00:00, 2020-01-01 11:00:00}|2020-01-01 10:00:00|45.67113631421869 |25.628636273470793|\n",
            "|{2020-01-01 11:00:00, 2020-01-01 12:00:00}|2020-01-01 11:00:00|41.728468688758646|25.071711643322093|\n",
            "|{2020-01-01 12:00:00, 2020-01-01 13:00:00}|2020-01-01 12:00:00|42.51723207746233 |28.106518149375916|\n",
            "|{2020-01-01 13:00:00, 2020-01-01 14:00:00}|2020-01-01 13:00:00|49.24174992243449 |30.458499888579052|\n",
            "|{2020-01-01 14:00:00, 2020-01-01 15:00:00}|2020-01-01 14:00:00|37.05366686185201 |24.059666697184245|\n",
            "|{2020-01-01 15:00:00, 2020-01-01 16:00:00}|2020-01-01 15:00:00|53.28723580275125 |33.82666655672275 |\n",
            "|{2020-01-01 16:00:00, 2020-01-01 17:00:00}|2020-01-01 16:00:00|55.90774988333384 |39.62608331441879 |\n",
            "|{2020-01-01 17:00:00, 2020-01-01 18:00:00}|2020-01-01 17:00:00|63.157328350853376|44.25473288179354 |\n",
            "|{2020-01-01 18:00:00, 2020-01-01 19:00:00}|2020-01-01 18:00:00|87.95049985249837 |57.70275026957194 |\n",
            "|{2020-01-01 19:00:00, 2020-01-01 20:00:00}|2020-01-01 19:00:00|90.16443473152492 |58.15547853552777 |\n",
            "+------------------------------------------+-------------------+------------------+------------------+\n",
            "only showing top 20 rows\n",
            "\n"
          ]
        },
        {
          "output_type": "display_data",
          "data": {
            "text/plain": [
              "<Figure size 432x288 with 1 Axes>"
            ],
            "image/png": "[encoded data removed]"
          },
          "metadata": {
            "needs_background": "light"
          }
        },
        {
          "output_type": "display_data",
          "data": {
            "text/plain": [
              "<Figure size 576x432 with 0 Axes>"
            ]
          },
          "metadata": {}
        },
        {
          "output_type": "stream",
          "name": "stdout",
          "text": [
            "+------------------------------------------+-------------------+------------------+------------------+\n",
            "|window                                    |timestamp_hour     |avg_p1            |avg_p2            |\n",
            "+------------------------------------------+-------------------+------------------+------------------+\n",
            "|{2020-01-02 02:00:00, 2020-01-02 03:00:00}|2020-01-02 02:00:00|104.44992149621248|48.83773433417082 |\n",
            "|{2020-01-02 03:00:00, 2020-01-02 04:00:00}|2020-01-02 03:00:00|93.91448501278373 |36.61007332100588 |\n",
            "|{2020-01-02 04:00:00, 2020-01-02 05:00:00}|2020-01-02 04:00:00|83.86984774174582 |24.781984751461117|\n",
            "|{2020-01-02 05:00:00, 2020-01-02 06:00:00}|2020-01-02 05:00:00|52.81394336592983 |22.96387327221078 |\n",
            "|{2020-01-02 06:00:00, 2020-01-02 07:00:00}|2020-01-02 06:00:00|35.84621434211731 |21.30964289052146 |\n",
            "|{2020-01-02 07:00:00, 2020-01-02 08:00:00}|2020-01-02 07:00:00|33.094453747532945|19.820504236622018|\n",
            "|{2020-01-02 08:00:00, 2020-01-02 09:00:00}|2020-01-02 08:00:00|28.667647186447592|17.632794127744788|\n",
            "|{2020-01-02 09:00:00, 2020-01-02 10:00:00}|2020-01-02 09:00:00|25.62100909171848 |15.398807241282332|\n",
            "|{2020-01-02 10:00:00, 2020-01-02 11:00:00}|2020-01-02 10:00:00|26.813999901647154|16.004782622793446|\n",
            "|{2020-01-02 11:00:00, 2020-01-02 12:00:00}|2020-01-02 11:00:00|28.460088518868506|17.84929195758516 |\n",
            "|{2020-01-02 12:00:00, 2020-01-02 13:00:00}|2020-01-02 12:00:00|34.631666677039966|22.047543918877317|\n",
            "|{2020-01-02 13:00:00, 2020-01-02 14:00:00}|2020-01-02 13:00:00|55.27958679199219 |31.69776860150424 |\n",
            "|{2020-01-02 14:00:00, 2020-01-02 15:00:00}|2020-01-02 14:00:00|47.231000105539955|29.463583453496298|\n",
            "|{2020-01-02 15:00:00, 2020-01-02 16:00:00}|2020-01-02 15:00:00|58.75481815338135 |35.15390911969271 |\n",
            "|{2020-01-02 16:00:00, 2020-01-02 17:00:00}|2020-01-02 16:00:00|73.36394748353122 |41.632982663940965|\n",
            "|{2020-01-02 17:00:00, 2020-01-02 18:00:00}|2020-01-02 17:00:00|71.08848740072811 |43.281344501912095|\n",
            "|{2020-01-02 18:00:00, 2020-01-02 19:00:00}|2020-01-02 18:00:00|86.13917355498006 |50.84537209755133 |\n",
            "|{2020-01-02 19:00:00, 2020-01-02 20:00:00}|2020-01-02 19:00:00|85.07325007120768 |50.1396667321523  |\n",
            "|{2020-01-02 20:00:00, 2020-01-02 21:00:00}|2020-01-02 20:00:00|89.54524595229353 |52.39762300741477 |\n",
            "|{2020-01-02 21:00:00, 2020-01-02 22:00:00}|2020-01-02 21:00:00|91.55609753461388 |52.517317128375296|\n",
            "+------------------------------------------+-------------------+------------------+------------------+\n",
            "only showing top 20 rows\n",
            "\n"
          ]
        },
        {
          "output_type": "display_data",
          "data": {
            "text/plain": [
              "<Figure size 432x288 with 1 Axes>"
            ],
            "image/png": "[encoded data removed]"
          },
          "metadata": {
            "needs_background": "light"
          }
        },
        {
          "output_type": "display_data",
          "data": {
            "text/plain": [
              "<Figure size 576x432 with 0 Axes>"
            ]
          },
          "metadata": {}
        },
        {
          "output_type": "stream",
          "name": "stdout",
          "text": [
            "+------------------------------------------+-------------------+------------------+------------------+\n",
            "|window                                    |timestamp_hour     |avg_p1            |avg_p2            |\n",
            "+------------------------------------------+-------------------+------------------+------------------+\n",
            "|{2020-01-06 15:00:00, 2020-01-06 16:00:00}|2020-01-06 15:00:00|26.92466668287913 |16.61958335240682 |\n",
            "|{2020-01-06 16:00:00, 2020-01-06 17:00:00}|2020-01-06 16:00:00|25.094426190266844|15.18934428496439 |\n",
            "|{2020-01-06 17:00:00, 2020-01-06 18:00:00}|2020-01-06 17:00:00|54.685042927407814|27.57179497449826 |\n",
            "|{2020-01-06 18:00:00, 2020-01-06 19:00:00}|2020-01-06 18:00:00|71.97133271353586 |40.024857039678665|\n",
            "|{2020-01-06 19:00:00, 2020-01-06 20:00:00}|2020-01-06 19:00:00|107.06151741290914|68.11937919485158 |\n",
            "|{2020-01-06 20:00:00, 2020-01-06 21:00:00}|2020-01-06 20:00:00|105.05263541465582|70.90899268601292 |\n",
            "|{2020-01-06 21:00:00, 2020-01-06 22:00:00}|2020-01-06 21:00:00|93.81277707771018 |66.80018525653415 |\n",
            "|{2020-01-06 22:00:00, 2020-01-06 23:00:00}|2020-01-06 22:00:00|86.15942656407591 |63.113032810023576|\n",
            "|{2020-01-06 23:00:00, 2020-01-07 00:00:00}|2020-01-06 23:00:00|97.51752082572496 |76.27024777467585 |\n",
            "|{2020-01-07 00:00:00, 2020-01-07 01:00:00}|2020-01-07 00:00:00|76.12429748093787 |54.964628140788435|\n",
            "|{2020-01-07 01:00:00, 2020-01-07 02:00:00}|2020-01-07 01:00:00|65.6736281656586  |47.73477874181967 |\n",
            "|{2020-01-07 02:00:00, 2020-01-07 03:00:00}|2020-01-07 02:00:00|59.63411760730904 |44.530840276670055|\n",
            "|{2020-01-07 03:00:00, 2020-01-07 04:00:00}|2020-01-07 03:00:00|45.073272722417656|33.17027270577171 |\n",
            "|{2020-01-07 04:00:00, 2020-01-07 05:00:00}|2020-01-07 04:00:00|44.616500027974446|33.76433327992757 |\n",
            "|{2020-01-07 05:00:00, 2020-01-07 06:00:00}|2020-01-07 05:00:00|40.755739245207415|30.831478301338528|\n",
            "|{2020-01-07 06:00:00, 2020-01-07 07:00:00}|2020-01-07 06:00:00|30.108888789119884|19.150256409604324|\n",
            "|{2020-01-07 07:00:00, 2020-01-07 08:00:00}|2020-01-07 07:00:00|31.233524560928345|20.100655731607656|\n",
            "|{2020-01-07 08:00:00, 2020-01-07 09:00:00}|2020-01-07 08:00:00|29.972300938800373|18.87486736331366 |\n",
            "|{2020-01-07 09:00:00, 2020-01-07 10:00:00}|2020-01-07 09:00:00|30.455221184587057|20.270885100406883|\n",
            "|{2020-01-07 10:00:00, 2020-01-07 11:00:00}|2020-01-07 10:00:00|27.965897348192   |18.791196594890366|\n",
            "+------------------------------------------+-------------------+------------------+------------------+\n",
            "only showing top 20 rows\n",
            "\n"
          ]
        },
        {
          "output_type": "display_data",
          "data": {
            "text/plain": [
              "<Figure size 432x288 with 1 Axes>"
            ],
            "image/png": "[encoded data removed]"
          },
          "metadata": {
            "needs_background": "light"
          }
        },
        {
          "output_type": "display_data",
          "data": {
            "text/plain": [
              "<Figure size 576x432 with 0 Axes>"
            ]
          },
          "metadata": {}
        }
      ]
    },
    {
      "cell_type": "markdown",
      "source": [
        "4. The data covers a period of extensive population confinement due to Covid 19. Can you find a signal in the data showing air quality improvement coinciding with the confinement period?\n",
        "\n",
        "R: By analysing the plot we see a decrease of the average air pollution from January to February and then it maintains till mid March where the lockdown was instated and afterwards we see another decrease which maintains till July (end of dataset)."
      ],
      "metadata": {
        "id": "_tzPuUp0wnou"
      }
    },
    {
      "cell_type": "code",
      "source": [
        "from pyspark.sql import SparkSession\n",
        "from pyspark.sql.functions import *\n",
        "from pyspark.sql.types import *\n",
        "\n",
        "# importing pandas library\n",
        "import pandas as pd\n",
        "# importing matplotlib library\n",
        "import matplotlib.pyplot as plt\n",
        "\n",
        "def plot(df, epoch_id):\n",
        "    dfp = df.toPandas()\n",
        "    # plotting a line graph\n",
        "    print(\"Line graph: \")\n",
        "    plt.plot(dfp[\"timestamp_hour\"], dfp[\"avg_p1\"])\n",
        "    plt.show()\n",
        "\n",
        "def dumpBatchDF(df, epoch_id):\n",
        "    df = df.orderBy('window')\n",
        "    ax = plt.gca()\n",
        "    plt.figure(figsize=(8, 6))\n",
        "    dfp = df.toPandas()\n",
        "    dfp.plot(kind='line',x='timestamp_day',y='avg_p1',ax=ax)\n",
        "    dfp.plot(kind='line',x='timestamp_day',y='avg_p2', color='red', ax=ax)\n",
        "    plt.show()\n",
        "    df.show(20, False)\n",
        "\n",
        "\n",
        "\n",
        "\n",
        "\n",
        "\n",
        "spark = SparkSession \\\n",
        "    .builder \\\n",
        "    .appName('Kafka Spark Structured Streaming Example') \\\n",
        "    .config('spark.jars.packages', 'org.apache.spark:spark-sql-kafka-0-10_2.12:3.2.1') \\\n",
        "    .getOrCreate()\n",
        "\n",
        "lines = spark \\\n",
        "  .readStream \\\n",
        "  .format('kafka') \\\n",
        "  .option('kafka.bootstrap.servers', 'localhost:9092') \\\n",
        "  .option('subscribe', 'air_quality') \\\n",
        "  .option('startingOffsets', 'earliest') \\\n",
        "  .load() \\\n",
        "  .selectExpr('CAST(value AS STRING)')\n",
        "\n",
        "\n",
        "schema = StructType([StructField('timestamp', TimestampType(), True),\n",
        "                     StructField('sensor_id', StringType(), True),\n",
        "                     StructField('sensor_type', StringType(), True),\n",
        "                     StructField('location', StringType(), True),\n",
        "                     StructField('latitude', FloatType(), True),\n",
        "                     StructField('longitude', FloatType(), True),\n",
        "                     StructField('p1', FloatType(), True),\n",
        "                     StructField('p2', FloatType(), True)])\n",
        "\n",
        "lines = lines.select( from_json(col('value'), schema).alias('data')).select('data.*')\n",
        "\n",
        "query = lines.withWatermark('timestamp','24 seconds')\\\n",
        "      .groupBy(window(lines.timestamp,\"1 day\",\"1 day\"), date_trunc(\"Day\",'timestamp').alias('timestamp_day'))\\\n",
        "      .agg(avg('p1').alias('avg_p1'), avg('p2').alias('avg_p2'))\n",
        "\n",
        "query = query \\\n",
        "    .writeStream \\\n",
        "    .outputMode('update') \\\n",
        "    .trigger(processingTime='10 seconds') \\\n",
        "    .foreachBatch(dumpBatchDF) \\\n",
        "    .start()\n",
        "\n",
        "query.awaitTermination(100)\n",
        "query.stop()\n",
        "spark.stop()"
      ],
      "metadata": {
        "colab": {
          "base_uri": "https://localhost:8080/",
          "height": 1000
        },
        "id": "G8enMCIxwoCq",
        "outputId": "43c25230-458d-46de-d057-d01bbdb42ada"
      },
      "execution_count": null,
      "outputs": [
        {
          "output_type": "display_data",
          "data": {
            "text/plain": [
              "<Figure size 432x288 with 1 Axes>"
            ],
            "image/png": "[encoded data removed]"
          },
          "metadata": {
            "needs_background": "light"
          }
        },
        {
          "output_type": "display_data",
          "data": {
            "text/plain": [
              "<Figure size 576x432 with 0 Axes>"
            ]
          },
          "metadata": {}
        },
        {
          "output_type": "stream",
          "name": "stdout",
          "text": [
            "+------------------------------------------+-------------------+------------------+------------------+\n",
            "|window                                    |timestamp_day      |avg_p1            |avg_p2            |\n",
            "+------------------------------------------+-------------------+------------------+------------------+\n",
            "|{2020-01-01 00:00:00, 2020-01-02 00:00:00}|2020-01-01 00:00:00|72.91310271410406 |41.28459471360026 |\n",
            "|{2020-01-02 00:00:00, 2020-01-03 00:00:00}|2020-01-02 00:00:00|64.85641002254326 |34.90484710004149 |\n",
            "|{2020-01-03 00:00:00, 2020-01-04 00:00:00}|2020-01-03 00:00:00|69.02215701988993 |42.132719833871896|\n",
            "|{2020-01-04 00:00:00, 2020-01-05 00:00:00}|2020-01-04 00:00:00|56.32841792309026 |32.28398636619497 |\n",
            "|{2020-01-05 00:00:00, 2020-01-06 00:00:00}|2020-01-05 00:00:00|28.123103792562425|21.34564152018829 |\n",
            "|{2020-01-06 00:00:00, 2020-01-07 00:00:00}|2020-01-06 00:00:00|45.81379689494312 |30.787486616770426|\n",
            "|{2020-01-07 00:00:00, 2020-01-08 00:00:00}|2020-01-07 00:00:00|42.88127377424198 |29.14204613565526 |\n",
            "|{2020-01-08 00:00:00, 2020-01-09 00:00:00}|2020-01-08 00:00:00|42.58436885969334 |25.70231070918087 |\n",
            "|{2020-01-09 00:00:00, 2020-01-10 00:00:00}|2020-01-09 00:00:00|44.542212794035265|19.825197000802543|\n",
            "|{2020-01-10 00:00:00, 2020-01-11 00:00:00}|2020-01-10 00:00:00|32.78871158220185 |15.749010072878647|\n",
            "|{2020-01-11 00:00:00, 2020-01-12 00:00:00}|2020-01-11 00:00:00|42.05004076860531 |24.632951967424702|\n",
            "|{2020-01-12 00:00:00, 2020-01-13 00:00:00}|2020-01-12 00:00:00|60.338391073568545|40.82348952499788 |\n",
            "|{2020-01-13 00:00:00, 2020-01-14 00:00:00}|2020-01-13 00:00:00|47.72236570000033 |33.717816623047135|\n",
            "|{2020-01-14 00:00:00, 2020-01-15 00:00:00}|2020-01-14 00:00:00|15.627769955027272|7.010889082132651 |\n",
            "|{2020-01-15 00:00:00, 2020-01-16 00:00:00}|2020-01-15 00:00:00|24.265499276398945|6.887598142489054 |\n",
            "|{2020-01-16 00:00:00, 2020-01-17 00:00:00}|2020-01-16 00:00:00|26.441465654346416|7.411816266275221 |\n",
            "|{2020-01-17 00:00:00, 2020-01-18 00:00:00}|2020-01-17 00:00:00|28.585142183404255|10.9613689006149  |\n",
            "|{2020-01-18 00:00:00, 2020-01-19 00:00:00}|2020-01-18 00:00:00|20.98734850793584 |6.014053029226288 |\n",
            "|{2020-01-19 00:00:00, 2020-01-20 00:00:00}|2020-01-19 00:00:00|11.297177628040066|4.0047062881858055|\n",
            "|{2020-01-20 00:00:00, 2020-01-21 00:00:00}|2020-01-20 00:00:00|5.390862136913117 |2.4353511708790996|\n",
            "+------------------------------------------+-------------------+------------------+------------------+\n",
            "only showing top 20 rows\n",
            "\n"
          ]
        },
        {
          "output_type": "display_data",
          "data": {
            "text/plain": [
              "<Figure size 432x288 with 1 Axes>"
            ],
            "image/png": "[encoded data removed]"
          },
          "metadata": {
            "needs_background": "light"
          }
        },
        {
          "output_type": "display_data",
          "data": {
            "text/plain": [
              "<Figure size 576x432 with 0 Axes>"
            ]
          },
          "metadata": {}
        },
        {
          "output_type": "stream",
          "name": "stdout",
          "text": [
            "+------+-------------+------+------+\n",
            "|window|timestamp_day|avg_p1|avg_p2|\n",
            "+------+-------------+------+------+\n",
            "+------+-------------+------+------+\n",
            "\n"
          ]
        }
      ]
    }
  ]
}